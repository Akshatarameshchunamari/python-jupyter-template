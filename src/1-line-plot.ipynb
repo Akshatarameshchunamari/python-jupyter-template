{
 "cells": [
  {
   "cell_type": "markdown",
   "metadata": {},
   "source": [
    "### Exercise 1: Line Plot Customization"
   ]
  },
  {
   "cell_type": "code",
   "execution_count": null,
   "metadata": {},
   "outputs": [],
   "source": [
    "# TASK: Create a line plot with x values ranging from 0 to 10 and y values as the square of x.\n",
    "# Customize the plot by adding a title, labels for both axes, and a grid."
   ]
  },
  {
   "cell_type": "code",
   "execution_count": null,
   "metadata": {},
   "outputs": [],
   "source": [
    "import matplotlib.pyplot as plt\n",
    "import numpy as np\n",
    "\n",
    "# Data\n",
    "x = np.arange(0, 11)  # x values from 0 to 10\n",
    "y = x**2  # y values as square of x\n",
    "\n",
    "# Create the plot\n",
    "plt.plot(x, y, marker='o', linestyle='-', color='b', label=\"y = x²\")\n",
    "\n",
    "# Customizations\n",
    "plt.title(\"Line Plot of y = x²\")  # Title\n",
    "plt.xlabel(\"X Values\")  # X-axis label\n",
    "plt.ylabel(\"Y Values (Squared)\")  # Y-axis label\n",
    "plt.grid(True)  # Add grid\n",
    "plt.legend()  # Add legend\n",
    "\n",
    "# Show plot\n",
    "plt.show()"
   ]
  }
 ],
 "metadata": {
  "language_info": {
   "name": "python"
  }
 },
 "nbformat": 4,
 "nbformat_minor": 2
}
